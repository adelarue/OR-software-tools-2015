{
 "metadata": {
  "language": "Julia",
  "name": "",
  "signature": "sha256:3b97874215cdbc0e5c6e5f57faef9ecf4dc901ff10fd08b145765d2f3167d6e9"
 },
 "nbformat": 3,
 "nbformat_minor": 0,
 "worksheets": [
  {
   "cells": [
    {
     "cell_type": "heading",
     "level": 1,
     "metadata": {
      "slideshow": {
       "slide_type": "slide"
      }
     },
     "source": [
      "Cutting Stock Problem"
     ]
    },
    {
     "cell_type": "markdown",
     "metadata": {
      "slideshow": {
       "slide_type": "slide"
      }
     },
     "source": [
      "Each raw paper roll is with 100 width\n",
      "\n",
      "Order width / Demand:\n",
      "\n",
      "- 14 / 211\n",
      "- 31 / 395\n",
      "- 36 / 610\n",
      "- 45 / 97\n",
      "\n",
      "How to cut the each paper roll so that number of raw paper rolls used to satisfy the demand is minimized?"
     ]
    },
    {
     "cell_type": "markdown",
     "metadata": {},
     "source": [
      "###Let's see how to formulate this problem in JuMP"
     ]
    },
    {
     "cell_type": "code",
     "collapsed": false,
     "input": [
      "#import necessary packages and define model\n",
      "using JuMP\n",
      "using Gurobi \n",
      "master = Model(solver=GurobiSolver(Method=0))  # Switch LP algorithm to Primal Simplex, why? "
     ],
     "language": "python",
     "metadata": {},
     "outputs": []
    },
    {
     "cell_type": "markdown",
     "metadata": {},
     "source": [
      "We are now going to initialize a ***\"restricted master problem\"*** with only two variables, corresponding two cutting patterns: \n",
      "- width (14,31,36,45), quantity (1,1,0,1), denoted as $x_1$\n",
      "- width (14,31,36,45), quantity (0,0,2,0), denoted as $x_2$\n",
      "\n",
      "**\\[Recall 1\\]** what's the meaning of each variable? _Number of paper rolls cut using this pattern._\n",
      "\n",
      "**\\[Recall 2\\]** How should the formulation of the restricted master problem look like?\n",
      "\n",
      "$$\n",
      "\\begin{align}\n",
      "\\nonumber\\min\\qquad\\qquad\\quad &x_1+x_2 \\\\\n",
      "s.t.\\qquad\\left( \\begin{array}{c}\n",
      "1 \\\\\n",
      "1 \\\\\n",
      "0 \\\\\n",
      "1 \\end{array} \\right)&x_1+\\left( \\begin{array}{c}\n",
      "0 \\\\\n",
      "0 \\\\\n",
      "2 \\\\\n",
      "0 \\end{array} \\right)x_2 \\ge \\left( \\begin{array}{c}\n",
      "211 \\\\\n",
      "395 \\\\\n",
      "610 \\\\\n",
      "97 \\end{array} \\right) \\\\ \n",
      "&x_1,x_2\\ge0\n",
      "\\end{align}$$"
     ]
    },
    {
     "cell_type": "code",
     "collapsed": false,
     "input": [
      "#define initial variables\n",
      "@defVar(master, x[1:2] >= 0)\n",
      "\n",
      "#width\n",
      "w=[14 31 36 45]\n",
      "\n",
      "#constraint coefficient for initial variables\n",
      "A=[1 0; 1 0; 0 2; 1 0]\n",
      "b=[211; 395; 610; 97]\n",
      "\n",
      "\n",
      "#define constraint references (why?)\n",
      "@defConstrRef myCons[1:4]\n",
      "\n",
      "#define constraints\n",
      "for i=1:4\n",
      "    myCons[i] = @addConstraint(master, dot(x, vec(A[i,:]))>=b[i])\n",
      "end\n",
      "\n",
      "#define objective\n",
      "@setObjective(master, Min, sum(x))\n",
      "\n",
      "master"
     ],
     "language": "python",
     "metadata": {},
     "outputs": []
    },
    {
     "cell_type": "code",
     "collapsed": false,
     "input": [
      "status=solve(master)\n",
      "getValue(x)\n",
      "\n",
      "#get the optimal solution\n",
      "println(\"\\nOptimal Solution is:\\n\")\n",
      "\n",
      "println(\"width: \", w)\n",
      "\n",
      "epsilon=1e-6\n",
      "\n",
      "for i=1:size(A,2)\n",
      "   \n",
      "    if getValue(x[i])>epsilon \n",
      "        println(\"Cutting Pattern: \", A[:,i], \", Number of Paper Rolls Cut Using this Pattern: \", getValue(x[i]))\n",
      "    end\n",
      "end"
     ],
     "language": "python",
     "metadata": {},
     "outputs": []
    },
    {
     "cell_type": "markdown",
     "metadata": {},
     "source": [
      "The minimal number of paper rolls is 700. \n",
      "\n",
      "Clearly this is not the best we can do, because we are not considering all possible feasible patterns.\n",
      "\n",
      "Let's now generate some new patterns based on the value of reduced costs. Denote $r=(r_1,r_2,r_3,r_4)$ as the optimal dual price of constraints 1, 2, 3, 4. The reduced cost of a potential variable $x_k$, with cutting pattern $A_k$ can be calculated as\n",
      "$$rc(x_k)=1-A_k^Tr$$\n",
      "\n",
      "We want to add a potential variable $x_k$ such that $rc(x_k)<0$, this can be done by solving the following sub-problem:\n",
      "\n",
      "$$\\begin{align}\n",
      "z^*=\\max\\qquad &r_1a_{k,1}+r_2a_{k,2}+r_3a_{k,3}+r_4a_{k,4} \\\\\n",
      "s.t.\\qquad &14a_{k,1}+31a_{k,2}+36a_{k,3}+45a_{k,4}\\le 100 \\\\\n",
      "&a_{k,1},a_{k,2},a_{k,3},a_{k,4}\\ge0,~\\textrm{and are integers}\n",
      "\\end{align}$$\n",
      "\n",
      "If $z^*>1$, then $x_k$ with cutting pattern $(a_{k,1},a_{k,2},a_{k,3},a_{k,4})$ should be added to the master problem. And resolve the master problem."
     ]
    },
    {
     "cell_type": "code",
     "collapsed": false,
     "input": [
      "r=[getDual(myCons)[1:4]]\n",
      "\n",
      "sub = Model(solver=GurobiSolver())  \n",
      "\n",
      "#width\n",
      "w=[14,31,36,45]\n",
      "\n",
      "#define cutting pattern variables\n",
      "@defVar(sub, a[1:4]>=0, Int)\n",
      "\n",
      "#define feasible cutting constraint\n",
      "@addConstraint(sub, dot(w,a)<=100)\n",
      "\n",
      "#define objective\n",
      "@setObjective(sub, Max, dot(r,a))\n",
      "\n",
      "sub\n",
      "\n",
      "status=solve(sub)\n",
      "\n",
      "#print new cutting pattern\n",
      "pattern=[getValue(a)[1:4]]\n",
      "\n",
      "println(\"width: \", w)\n",
      "\n",
      "println(\"\\nNew Cutting Pattern: \", int(pattern))"
     ],
     "language": "python",
     "metadata": {},
     "outputs": []
    },
    {
     "cell_type": "markdown",
     "metadata": {},
     "source": [
      "The reduced cost of this variable is $(1-3)=-2<0$. Add this new variable to the ***\"restricted master problem\"***."
     ]
    },
    {
     "cell_type": "code",
     "collapsed": false,
     "input": [
      "master"
     ],
     "language": "python",
     "metadata": {},
     "outputs": []
    },
    {
     "cell_type": "markdown",
     "metadata": {},
     "source": [
      "JuMP supports column-wise modeling in defining variables. Think about it, when we add a new variable to the existing model, we need to know:\n",
      "\n",
      "- What's the coefficient for this new variable in the objective function?\n",
      "- Which constraint does this new variable appear? With what coefficient?"
     ]
    },
    {
     "cell_type": "code",
     "collapsed": false,
     "input": [
      "#column-wise adding new variable z\n",
      "@defVar(master, z>=0, objective=1, inconstraints=myCons, coefficients=pattern)\n",
      "\n",
      "#look at the master problem again\n",
      "master"
     ],
     "language": "python",
     "metadata": {},
     "outputs": []
    },
    {
     "cell_type": "code",
     "collapsed": false,
     "input": [
      "#solve the master problem again\n",
      "status=solve(master)\n",
      "\n",
      "#get the optimal solution\n",
      "println(\"\\nOptimal Solution is:\\n\")\n",
      "\n",
      "println(\"width: \", w)\n",
      "\n",
      "for i=1:length(x)\n",
      "   \n",
      "    if getValue(x[i])>epsilon\n",
      "        println(\"Cutting Pattern: \", A[:,i], \", Number of Paper Rolls Cut Using this Pattern: \", getValue(x[i]))\n",
      "    end\n",
      "end\n",
      "\n",
      "\n",
      "if getValue(z)>epsilon\n",
      "    println(\"Cutting Pattern: \", int(pattern), \", Number of Paper Rolls Cut Using this Pattern: \", getValue(z))\n",
      "end\n"
     ],
     "language": "python",
     "metadata": {},
     "outputs": []
    },
    {
     "cell_type": "markdown",
     "metadata": {},
     "source": [
      "We see that after adding a new variable, the objective value is reduced to 577.3 \n",
      "\n",
      "###Now it's time to put all pieces together! (Please restart the kernel here)###"
     ]
    },
    {
     "cell_type": "code",
     "collapsed": false,
     "input": [
      "#import necessary packages and define master problem\n",
      "using JuMP  \n",
      "using Gurobi \n",
      "master = Model(solver=GurobiSolver(Method=0, OutputFlag=0)) \n",
      "\n",
      "#define initial variables\n",
      "@defVar(master, x[1:2] >= 0)\n",
      "\n",
      "#constraint coefficient for initial variables\n",
      "A=[1 0; 1 0; 0 2; 1 0]\n",
      "b=[211; 395; 610; 97]\n",
      "\n",
      "#define constraint references (why?)\n",
      "@defConstrRef myCons[1:4]\n",
      "\n",
      "#define constraints\n",
      "for i=1:4\n",
      "    myCons[i] = @addConstraint(master, dot(x, vec(A[i,:]))>=b[i])\n",
      "end\n",
      "\n",
      "#define objective\n",
      "@setObjective(master, Min, sum(x))\n",
      "\n",
      "#solve master problem\n",
      "solve(master)\n",
      "\n",
      "println(\"Iteration 1, Master Problem Objective Value:\", getObjectiveValue(master))\n",
      "\n",
      "#subproblem to iteratively generate new columns\n",
      "\n",
      "#get optimal dual prices from the master problem\n",
      "r=[getDual(myCons)[1:4]]\n",
      "\n",
      "sub=Model(solver=GurobiSolver(OutputFlag=0))  \n",
      "\n",
      "#width\n",
      "w=[14,31,36,45]\n",
      "\n",
      "#define cutting pattern variables\n",
      "@defVar(sub, a[1:4]>=0, Int)\n",
      "\n",
      "#define feasible cutting constraint\n",
      "@addConstraint(sub, dot(w,a)<=100)\n",
      "\n",
      "#define objective\n",
      "@setObjective(sub, Max, dot(r,a))\n",
      "\n",
      "#solve the subproblem\n",
      "solve(sub)\n",
      "\n",
      "sub_obj=getObjectiveValue(sub);\n",
      "\n",
      "epsilon=1e-6; \n",
      "\n",
      "#list of new variables\n",
      "newColumns=Variable[]\n",
      "#pattern list\n",
      "A_new=Float64[];\n",
      "\n",
      "iter=2\n",
      "\n",
      "while sub_obj>1+epsilon  #why?\n",
      "\n",
      "    #cutting pattern (constraint coefficients) for the new variable\n",
      "    pattern=getValue(a)[1:4]\n",
      "    \n",
      "    #column-wise adding new variable z\n",
      "    @defVar(master, z>=0, objective=1, inconstraints=myCons, coefficients=pattern)\n",
      "    \n",
      "    println(\"\\tAdd a new variable with cutting pattern: \", pattern, \", reduced cost: \", (1-sub_obj))\n",
      "    \n",
      "    #add new variable to the new variable list\n",
      "    push!(newColumns, z)\n",
      "    #add new cutting pattern to pattern list\n",
      "    append!(A_new, pattern)\n",
      "    \n",
      "    solve(master)\n",
      "    \n",
      "    println(\"\\nIteration \",iter, \", Master Problem Objective Value:\", getObjectiveValue(master))\n",
      "    \n",
      "    #get new optimal dual prices\n",
      "    r=[getDual(myCons)[1:4]]\n",
      "    \n",
      "    #modify the objective of the subproblem based on new dual prices\n",
      "    @setObjective(sub, Max, dot(r,a))\n",
      "    \n",
      "    solve(sub)\n",
      "    \n",
      "    sub_obj=getObjectiveValue(sub)\n",
      "    \n",
      "    iter=iter+1\n",
      "    \n",
      "end\n",
      "\n",
      "#print optimal solution\n",
      "A_new=reshape(A_new,4, convert(Int64,length(A_new)/4))\n",
      "\n",
      "println(\"\\nOptimal Solution is:\\n\")\n",
      "\n",
      "println(\"width: \", w)\n",
      "\n",
      "for i=1:length(x)\n",
      "   \n",
      "    if getValue(x[i])>epsilon\n",
      "        println(\"Cutting Pattern: \", A[:,i], \", Number of Paper Rolls Cut Using this Pattern: \", getValue(x[i]))\n",
      "    end\n",
      "end\n",
      "\n",
      "for i=1:length(newColumns)\n",
      "   \n",
      "    if getValue(newColumns[i])>epsilon\n",
      "        println(\"Cutting Pattern: \", int(A_new[:,i]), \", Number of Paper Rolls Cut Using this Pattern: \", getValue(newColumns[i]))\n",
      "    end\n",
      "end"
     ],
     "language": "python",
     "metadata": {},
     "outputs": []
    },
    {
     "cell_type": "markdown",
     "metadata": {},
     "source": [
      ">**\\[Exercise and Discussion\\]**: \n",
      "\n",
      "> - Change the initial variables we use to construct the first restricted master problem (but still maintain the starting restricted master problem feasible). How does it effect the convergence of the algorithm? (number of total columns generated?)\n",
      "> - Could you find a way to generate multiple columns whose reduced cost are less than 0 at one iteration?"
     ]
    },
    {
     "cell_type": "markdown",
     "metadata": {},
     "source": [
      "###How to obtain INTEGER solution? ###\n",
      "\n",
      "We solve the LP relaxation sucessfully using column generation, however the original cutting stock problem is an integer program. Can we apply column generation to obtain optimal integer solution? \n",
      "\n",
      "The answer is _Yes_. However, it involves an advanced solution methodology called [branch-and-price](http://en.wikipedia.org/wiki/Branch_and_price) where column generation is applied on each node of the branch-and-bound tree. Unfortunately, commercial solvers (Gurobi, CPLEX) don't support this feature. Till now, the only academic solver supports branch-and-price is [SCIP](http://scip.zib.de/).\n",
      "\n",
      "Instead of solving the integer program to optimality, we here introduce two approximation methods that are widely used in solving real-world problems. "
     ]
    },
    {
     "cell_type": "markdown",
     "metadata": {},
     "source": [
      "####Method 1: Rounding####\n",
      "\n",
      "Rounding a fractional solution to its _nearest_ and _feasible_ is a common heuristic for solving integer program. It's pretty problem specific. In cutting stock problem, we observe that if we _round up_ all the fractional solutions, feasibility will maintain. Thus we get our first integer solution:"
     ]
    },
    {
     "cell_type": "code",
     "collapsed": false,
     "input": [
      "println(\"\\nInteger Solution Based on Rounding is:\\n\")\n",
      "\n",
      "println(\"width: \", w)\n",
      "\n",
      "summation=0\n",
      "\n",
      "for i=1:length(x)\n",
      "   \n",
      "    if getValue(x[i])>epsilon\n",
      "        println(\"Cutting Pattern: \", A[:,i], \", Number of Paper Rolls Cut Using this Pattern: \", ceil(getValue(x[i])))\n",
      "        summation=summation+ceil(getValue(x[i]))\n",
      "    end\n",
      "end\n",
      "\n",
      "for i=1:length(newColumns)\n",
      "   \n",
      "    if getValue(newColumns[i])>epsilon\n",
      "        println(\"Cutting Pattern: \", int(A_new[:,i]), \", Number of Paper Rolls Cut Using this Pattern: \", ceil(getValue(newColumns[i])))\n",
      "        summation=summation+ceil(getValue(newColumns[i]))\n",
      "    end\n",
      "end\n",
      "\n",
      "println(\"Total Number of Paper Rolls Used: \", summation)"
     ],
     "language": "python",
     "metadata": {},
     "outputs": []
    },
    {
     "cell_type": "markdown",
     "metadata": {},
     "source": [
      "We now have an integer solution using 454.0 paper rolls in total. Can we do better?"
     ]
    },
    {
     "cell_type": "markdown",
     "metadata": {},
     "source": [
      "####Method 2: Branch-and-Bound on Root Node ####\n",
      "\n",
      "It is troublesome to implement column generation on every node of the branch and bound tree. A common industry / research practice is to directly branch-and-bound the model only with columns generated from solving the LP relaxation. This is a heuristic because optimal set of cutting patterns for the IP might not be the same as the LP relaxation, i.e. we might lose some \"good columns\" to reach optimal integer solution. The upside is, it is very easy to implement with commercial solvers."
     ]
    },
    {
     "cell_type": "code",
     "collapsed": false,
     "input": [
      "#change variable type from continuous to integer\n",
      "\n",
      "for i=1:length(x)\n",
      "    setCategory(x[i], :Int)\n",
      "end\n",
      "\n",
      "for i=1:length(newColumns)\n",
      "    setCategory(newColumns[i],:Int)\n",
      "end\n",
      "\n",
      "solve(master)\n",
      "\n",
      "\n",
      "#print optimal solution\n",
      "\n",
      "\n",
      "\n",
      "println(\"\\nInteger Solution Based on Branch-and-Bound is:\\n\")\n",
      "\n",
      "println(\"width: \", w)\n",
      "\n",
      "summation=0\n",
      "\n",
      "for i=1:length(x)\n",
      "   \n",
      "    if getValue(x[i])>epsilon\n",
      "        println(\"Cutting Pattern: \", A[:,i], \", Number of Paper Rolls Cut Using this Pattern: \", getValue(x[i]))\n",
      "        summation=summation+getValue(x[i])\n",
      "    end\n",
      "end\n",
      "\n",
      "for i=1:length(newColumns)\n",
      "   \n",
      "    if getValue(newColumns[i])>epsilon\n",
      "        println(\"Cutting Pattern: \", int(A_new[:,i]), \", Number of Paper Rolls Cut Using this Pattern: \", getValue(newColumns[i]))\n",
      "        summation=summation+getValue(newColumns[i])\n",
      "    end\n",
      "end\n",
      "\n",
      "println(\"Total Number of Paper Rolls Used: \", summation)"
     ],
     "language": "python",
     "metadata": {},
     "outputs": []
    },
    {
     "cell_type": "markdown",
     "metadata": {},
     "source": [
      "We save one paper roll by using method 2"
     ]
    },
    {
     "cell_type": "markdown",
     "metadata": {},
     "source": [
      "> **\\[Question\\]:**\n",
      "\n",
      "> Is method 2 always able to produce feasible integer solution?"
     ]
    }
   ],
   "metadata": {}
  }
 ]
}