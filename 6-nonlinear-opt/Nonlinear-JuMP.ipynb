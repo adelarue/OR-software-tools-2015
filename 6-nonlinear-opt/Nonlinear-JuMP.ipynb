{
 "metadata": {
  "language": "Julia",
  "name": "",
  "signature": "sha256:eb67d64c267bde1c8acbbd3549e149ea7a8e8566f70baa255126dc8a172db3b0"
 },
 "nbformat": 3,
 "nbformat_minor": 0,
 "worksheets": [
  {
   "cells": [
    {
     "cell_type": "heading",
     "level": 2,
     "metadata": {},
     "source": [
      "Nonlinear Optimization"
     ]
    },
    {
     "cell_type": "markdown",
     "metadata": {},
     "source": [
      "Consider the unconstrained minimization problem\n",
      "$$\n",
      "\\min_{x > 0} x^2 - \\log(x)\n",
      "$$\n",
      "The objective function is strictly convex (why?), so from high school calculus we find the minimizer when\n",
      "$$\n",
      "0 = \\frac{d}{dx} [x^2 - \\log(x)] = 2x - \\frac{1}{x}\n",
      "$$\n",
      "$$\n",
      "\\rightarrow x = \\frac{1}{\\sqrt{2}}\n",
      "$$"
     ]
    },
    {
     "cell_type": "markdown",
     "metadata": {},
     "source": [
      ">**\\[Exercise\\]**: Plot it\n",
      "\n",
      "> Plot the function $x^2-\\log(x)$, for $x$ between 0 and 3. You may use ``Gadfly`` or ``PyPlot``.\n",
      "\n",
      "> _Be careful not to take the log of zero_"
     ]
    },
    {
     "cell_type": "markdown",
     "metadata": {},
     "source": [
      "#### Let's see how to formulate this problem in JuMP"
     ]
    },
    {
     "cell_type": "code",
     "collapsed": false,
     "input": [
      "using JuMP\n",
      "using Ipopt"
     ],
     "language": "python",
     "metadata": {},
     "outputs": []
    },
    {
     "cell_type": "code",
     "collapsed": false,
     "input": [
      "m = Model()\n",
      "@defVar(m, x >= 0, start = 1) # provide an initial starting point, we don't want to start at zero!\n",
      "@setNLObjective(m, Min, x^2 - log(x))\n",
      "status = solve(m)"
     ],
     "language": "python",
     "metadata": {},
     "outputs": []
    },
    {
     "cell_type": "code",
     "collapsed": false,
     "input": [
      "getValue(x)"
     ],
     "language": "python",
     "metadata": {},
     "outputs": []
    },
    {
     "cell_type": "code",
     "collapsed": false,
     "input": [
      "abs(getValue(x)-1/sqrt(2))"
     ],
     "language": "python",
     "metadata": {},
     "outputs": []
    },
    {
     "cell_type": "markdown",
     "metadata": {},
     "source": [
      "Pretty accurate!"
     ]
    },
    {
     "cell_type": "markdown",
     "metadata": {},
     "source": [
      "### Now for some constrained optimization\n",
      "\n",
      "We will add the constraint $x \\geq c$. When $c \\leq \\frac{1}{\\sqrt{2}}$, this constraint has no effect. Otherwise the optimal solution is $c$."
     ]
    },
    {
     "cell_type": "code",
     "collapsed": false,
     "input": [
      "using Interact"
     ],
     "language": "python",
     "metadata": {},
     "outputs": []
    },
    {
     "cell_type": "code",
     "collapsed": false,
     "input": [
      "@manipulate for c in 0.1:0.01:2.0\n",
      "    m = Model(solver=IpoptSolver(print_level=0))\n",
      "    @defVar(m, x >= 0, start = 1)\n",
      "    @setNLObjective(m, Min, x^2 - log(x))\n",
      "    @addConstraint(m, x >= c)\n",
      "    status = solve(m)\n",
      "    round(getValue(x),2)\n",
      "end"
     ],
     "language": "python",
     "metadata": {},
     "outputs": []
    },
    {
     "cell_type": "markdown",
     "metadata": {},
     "source": [
      "### Differences with linear/quadratic JuMP:\n",
      "- Use ``@setNLObjective`` and ``@addNLConstraint`` instead of ``@setObjective`` and ``@addConstraint``.\n",
      "- Important to set a starting value for each variable.\n",
      "- Different [solvers](http://jump.readthedocs.org/en/release-0.7/installation.html#getting-solvers):\n",
      "  - [Ipopt](https://github.com/JuliaOpt/Ipopt.jl) is open source, widely used\n",
      "  - [KNITRO](https://github.com/JuliaOpt/KNITRO.jl) commercial, general nonlinear\n",
      "  - [Mosek](https://github.com/JuliaOpt/Mosek.jl) commercial, convex problems only\n",
      "- Currently working on expanding support for mixed-integer nonlinear (MINLP) solvers"
     ]
    }
   ],
   "metadata": {}
  }
 ]
}